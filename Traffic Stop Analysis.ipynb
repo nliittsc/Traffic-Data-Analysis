{
 "cells": [
  {
   "cell_type": "code",
   "execution_count": 134,
   "metadata": {},
   "outputs": [],
   "source": [
    "import numpy as np\n",
    "import pandas as pd\n",
    "import time\n",
    "import statsmodels.api as sm\n",
    "pd.set_option('display.max_columns', 500)"
   ]
  },
  {
   "cell_type": "code",
   "execution_count": 145,
   "metadata": {},
   "outputs": [
    {
     "name": "stderr",
     "output_type": "stream",
     "text": [
      "C:\\Users\\acros\\Anaconda3\\lib\\site-packages\\IPython\\core\\interactiveshell.py:2728: DtypeWarning: Columns (22) have mixed types. Specify dtype option on import or set low_memory=False.\n",
      "  interactivity=interactivity, compiler=compiler, result=result)\n"
     ]
    },
    {
     "name": "stdout",
     "output_type": "stream",
     "text": [
      "--- 1.5069735050201416 seconds to load in data---\n"
     ]
    }
   ],
   "source": [
    "start_time = time.time()\n",
    "df = pd.read_csv('CT_cleaned.csv')\n",
    "df['stop_date'] = pd.to_datetime(df['stop_date'])\n",
    "print(\"--- %s seconds to load in data---\" % (time.time() - start_time))"
   ]
  },
  {
   "cell_type": "code",
   "execution_count": 147,
   "metadata": {},
   "outputs": [
    {
     "data": {
      "text/html": [
       "<div>\n",
       "<style scoped>\n",
       "    .dataframe tbody tr th:only-of-type {\n",
       "        vertical-align: middle;\n",
       "    }\n",
       "\n",
       "    .dataframe tbody tr th {\n",
       "        vertical-align: top;\n",
       "    }\n",
       "\n",
       "    .dataframe thead th {\n",
       "        text-align: right;\n",
       "    }\n",
       "</style>\n",
       "<table border=\"1\" class=\"dataframe\">\n",
       "  <thead>\n",
       "    <tr style=\"text-align: right;\">\n",
       "      <th></th>\n",
       "      <th>id</th>\n",
       "      <th>state</th>\n",
       "      <th>stop_date</th>\n",
       "      <th>stop_time</th>\n",
       "      <th>location_raw</th>\n",
       "      <th>county_name</th>\n",
       "      <th>county_fips</th>\n",
       "      <th>fine_grained_location</th>\n",
       "      <th>police_department</th>\n",
       "      <th>driver_gender</th>\n",
       "      <th>driver_age_raw</th>\n",
       "      <th>driver_age</th>\n",
       "      <th>driver_race_raw</th>\n",
       "      <th>driver_race</th>\n",
       "      <th>violation_raw</th>\n",
       "      <th>violation</th>\n",
       "      <th>search_conducted</th>\n",
       "      <th>search_type_raw</th>\n",
       "      <th>search_type</th>\n",
       "      <th>contraband_found</th>\n",
       "      <th>stop_outcome</th>\n",
       "      <th>is_arrested</th>\n",
       "      <th>officer_id</th>\n",
       "      <th>stop_duration</th>\n",
       "    </tr>\n",
       "  </thead>\n",
       "  <tbody>\n",
       "    <tr>\n",
       "      <th>0</th>\n",
       "      <td>CT-2013-00001</td>\n",
       "      <td>CT</td>\n",
       "      <td>2013-10-01</td>\n",
       "      <td>00:01</td>\n",
       "      <td>westport</td>\n",
       "      <td>Fairfield County</td>\n",
       "      <td>9001.0</td>\n",
       "      <td>00000 N I 95 (WESTPORT, T158) X 18 LL</td>\n",
       "      <td>State Police</td>\n",
       "      <td>F</td>\n",
       "      <td>69</td>\n",
       "      <td>69.0</td>\n",
       "      <td>Black</td>\n",
       "      <td>Black</td>\n",
       "      <td>Speed Related</td>\n",
       "      <td>Speeding</td>\n",
       "      <td>False</td>\n",
       "      <td>NaN</td>\n",
       "      <td>NaN</td>\n",
       "      <td>False</td>\n",
       "      <td>Ticket</td>\n",
       "      <td>False</td>\n",
       "      <td>1000002754</td>\n",
       "      <td>1-15 min</td>\n",
       "    </tr>\n",
       "    <tr>\n",
       "      <th>1</th>\n",
       "      <td>CT-2013-00002</td>\n",
       "      <td>CT</td>\n",
       "      <td>2013-10-01</td>\n",
       "      <td>00:02</td>\n",
       "      <td>mansfield</td>\n",
       "      <td>Tolland County</td>\n",
       "      <td>9013.0</td>\n",
       "      <td>rte 195 storrs</td>\n",
       "      <td>State Police</td>\n",
       "      <td>M</td>\n",
       "      <td>20</td>\n",
       "      <td>20.0</td>\n",
       "      <td>White</td>\n",
       "      <td>White</td>\n",
       "      <td>Moving Violation</td>\n",
       "      <td>Moving violation</td>\n",
       "      <td>False</td>\n",
       "      <td>NaN</td>\n",
       "      <td>NaN</td>\n",
       "      <td>False</td>\n",
       "      <td>Verbal Warning</td>\n",
       "      <td>False</td>\n",
       "      <td>1000001903</td>\n",
       "      <td>1-15 min</td>\n",
       "    </tr>\n",
       "    <tr>\n",
       "      <th>2</th>\n",
       "      <td>CT-2013-00003</td>\n",
       "      <td>CT</td>\n",
       "      <td>2013-10-01</td>\n",
       "      <td>00:07</td>\n",
       "      <td>franklin</td>\n",
       "      <td>New London County</td>\n",
       "      <td>9011.0</td>\n",
       "      <td>Rt 32/whippoorwill</td>\n",
       "      <td>State Police</td>\n",
       "      <td>M</td>\n",
       "      <td>34</td>\n",
       "      <td>34.0</td>\n",
       "      <td>Hispanic</td>\n",
       "      <td>Hispanic</td>\n",
       "      <td>Speed Related</td>\n",
       "      <td>Speeding</td>\n",
       "      <td>False</td>\n",
       "      <td>NaN</td>\n",
       "      <td>NaN</td>\n",
       "      <td>False</td>\n",
       "      <td>Ticket</td>\n",
       "      <td>False</td>\n",
       "      <td>1000002711</td>\n",
       "      <td>1-15 min</td>\n",
       "    </tr>\n",
       "    <tr>\n",
       "      <th>3</th>\n",
       "      <td>CT-2013-00004</td>\n",
       "      <td>CT</td>\n",
       "      <td>2013-10-01</td>\n",
       "      <td>00:10</td>\n",
       "      <td>danbury</td>\n",
       "      <td>Fairfield County</td>\n",
       "      <td>9001.0</td>\n",
       "      <td>I-84</td>\n",
       "      <td>State Police</td>\n",
       "      <td>M</td>\n",
       "      <td>46</td>\n",
       "      <td>46.0</td>\n",
       "      <td>Black</td>\n",
       "      <td>Black</td>\n",
       "      <td>Speed Related</td>\n",
       "      <td>Speeding</td>\n",
       "      <td>False</td>\n",
       "      <td>NaN</td>\n",
       "      <td>NaN</td>\n",
       "      <td>False</td>\n",
       "      <td>Written Warning</td>\n",
       "      <td>False</td>\n",
       "      <td>113658284</td>\n",
       "      <td>1-15 min</td>\n",
       "    </tr>\n",
       "    <tr>\n",
       "      <th>4</th>\n",
       "      <td>CT-2013-00005</td>\n",
       "      <td>CT</td>\n",
       "      <td>2013-10-01</td>\n",
       "      <td>00:10</td>\n",
       "      <td>east hartford</td>\n",
       "      <td>Hartford County</td>\n",
       "      <td>9003.0</td>\n",
       "      <td>00000 W I 84 (EAST HARTFORD, T043)E.OF XT.56</td>\n",
       "      <td>State Police</td>\n",
       "      <td>M</td>\n",
       "      <td>30</td>\n",
       "      <td>30.0</td>\n",
       "      <td>White</td>\n",
       "      <td>White</td>\n",
       "      <td>Speed Related</td>\n",
       "      <td>Speeding</td>\n",
       "      <td>False</td>\n",
       "      <td>NaN</td>\n",
       "      <td>NaN</td>\n",
       "      <td>False</td>\n",
       "      <td>Ticket</td>\n",
       "      <td>False</td>\n",
       "      <td>830814942</td>\n",
       "      <td>1-15 min</td>\n",
       "    </tr>\n",
       "  </tbody>\n",
       "</table>\n",
       "</div>"
      ],
      "text/plain": [
       "              id state  stop_date stop_time   location_raw        county_name  \\\n",
       "0  CT-2013-00001    CT 2013-10-01     00:01       westport   Fairfield County   \n",
       "1  CT-2013-00002    CT 2013-10-01     00:02      mansfield     Tolland County   \n",
       "2  CT-2013-00003    CT 2013-10-01     00:07       franklin  New London County   \n",
       "3  CT-2013-00004    CT 2013-10-01     00:10        danbury   Fairfield County   \n",
       "4  CT-2013-00005    CT 2013-10-01     00:10  east hartford    Hartford County   \n",
       "\n",
       "   county_fips                         fine_grained_location  \\\n",
       "0       9001.0         00000 N I 95 (WESTPORT, T158) X 18 LL   \n",
       "1       9013.0                                rte 195 storrs   \n",
       "2       9011.0                            Rt 32/whippoorwill   \n",
       "3       9001.0                                          I-84   \n",
       "4       9003.0  00000 W I 84 (EAST HARTFORD, T043)E.OF XT.56   \n",
       "\n",
       "  police_department driver_gender  driver_age_raw  driver_age driver_race_raw  \\\n",
       "0      State Police             F              69        69.0           Black   \n",
       "1      State Police             M              20        20.0           White   \n",
       "2      State Police             M              34        34.0        Hispanic   \n",
       "3      State Police             M              46        46.0           Black   \n",
       "4      State Police             M              30        30.0           White   \n",
       "\n",
       "  driver_race     violation_raw         violation  search_conducted  \\\n",
       "0       Black     Speed Related          Speeding             False   \n",
       "1       White  Moving Violation  Moving violation             False   \n",
       "2    Hispanic     Speed Related          Speeding             False   \n",
       "3       Black     Speed Related          Speeding             False   \n",
       "4       White     Speed Related          Speeding             False   \n",
       "\n",
       "  search_type_raw search_type  contraband_found     stop_outcome is_arrested  \\\n",
       "0             NaN         NaN             False           Ticket       False   \n",
       "1             NaN         NaN             False   Verbal Warning       False   \n",
       "2             NaN         NaN             False           Ticket       False   \n",
       "3             NaN         NaN             False  Written Warning       False   \n",
       "4             NaN         NaN             False           Ticket       False   \n",
       "\n",
       "   officer_id stop_duration  \n",
       "0  1000002754      1-15 min  \n",
       "1  1000001903      1-15 min  \n",
       "2  1000002711      1-15 min  \n",
       "3   113658284      1-15 min  \n",
       "4   830814942      1-15 min  "
      ]
     },
     "execution_count": 147,
     "metadata": {},
     "output_type": "execute_result"
    }
   ],
   "source": [
    "df.head(5)"
   ]
  },
  {
   "cell_type": "code",
   "execution_count": 186,
   "metadata": {},
   "outputs": [],
   "source": [
    "#remove duplicated columns and constant columns\n",
    "#all stops were conducted by the State Police, so there is no need for the column\n",
    "columns = ['location_raw', 'driver_age_raw', 'driver_race_raw', 'violation_raw', 'search_type_raw', 'police_department']"
   ]
  },
  {
   "cell_type": "code",
   "execution_count": 149,
   "metadata": {},
   "outputs": [],
   "source": [
    "df = df.drop(columns = columns)\n",
    "del(columns)"
   ]
  },
  {
   "cell_type": "markdown",
   "metadata": {},
   "source": [
    "The following bit of code computes some statistics for the data set. It first gives the number of traffic stops, the number of searches conducted, and the number of hits. A hit is defined as 'contraband' being found during a search. \n",
    "\n",
    "From there, the search rate is computed as the number of searches over the number of stops.\n",
    "\n",
    "Similarly, the hit rate is given as the number of hits over the number of stops. Wilson Score intervals are computed for each, as the proportion of searches and hits are fairly close to 0, and the interval has been shown to give better coverage in this situation than regular normal-theory confidence intervals. The interval is computed with the following formula:\n",
    "\n",
    "$\\frac{ \\hat{p} + z^2/2n}{1 + z^2/n} \\pm \\frac{z}{1 + z^2/n} \\cdot \\sqrt{\\frac{\\hat{p}(1- \\hat{p})}{n} + \\frac{z^2}{4n^2}}$\n",
    "\n",
    "It should be noted that the wilson score interval has been observed to be a conservative estimate of the true confidence interval. It is often wider than the nominal coverage.\n",
    "\n",
    "where $z$ is the z-score from the normal distribution, $\\hat{p}$ is the estimated proportion and $n$ is the sample size"
   ]
  },
  {
   "cell_type": "code",
   "execution_count": 196,
   "metadata": {},
   "outputs": [],
   "source": [
    "\n",
    "from statsmodels.stats.proportion import proportion_confint\n",
    "\n",
    "def search_stats(df, alpha = 0.01):\n",
    "    n_stops = len(df.search_conducted)\n",
    "    n_searches = np.sum(df.search_conducted)\n",
    "    n_hits = np.sum(df.contraband_found)\n",
    "    search_rate = n_searches / n_stops\n",
    "    hit_rate = n_hits / n_searches\n",
    "    \n",
    "    ci_search = proportion_confint(n_searches, n_stops, alpha=0.01, method='wilson')\n",
    "    \n",
    "    ci_hit = proportion_confint(n_hits, n_searches, alpha=0.01, method='wilson')\n",
    "    \n",
    "    print(' %s traffic stops,' % n_stops, '%s searches, ' % n_searches,'%s hits for contraband,' % n_hits)\n",
    "    \n",
    "    print('Search rate: %s ,' % round(search_rate, 3))\n",
    "    print('Search Rate 99% confidence interval:', (round(ci_search[0], 5), round(ci_search[1], 5)))\n",
    "    print('Hit rate: %s ,' % round(hit_rate, 3))\n",
    "    print('Hit Rate 99% confidence interval:', (round(ci_hit[0], 5), round(ci_hit[1], 5)))\n",
    "    del(n_stops, n_searches, n_hits, search_rate, hit_rate, ci_search, ci_hit)\n",
    "    #return n_stops, n_searches, n_hits, search_rate, hit_rate"
   ]
  },
  {
   "cell_type": "markdown",
   "metadata": {},
   "source": [
    "Now, computing these statistics for various subsets of the data. We can look at race first. We compute the statistics for white drivers, then for non-white drivers. Non-white drivers are searched more than twice the rate of white drivers and the hit rate is about ~$0.09$ lower as well, indicating that when a search is performed in this sample, the the probability of contraband actually being found was lower.\n",
    "\n",
    "According to the open policing project's results, one possible interpretation of the search and hit rate is that, if the police are doing appropriate police work, then given a search, the hit rates should be approximately the same. If the hit rate is significantly lower for a particular group, that could indicate that the search was conducted out of bias. \n",
    "\n",
    "NB: The confidence intervals for search and hit rates are disjoint, indicating statistical signifigance, but we can't read too much into that just yet."
   ]
  },
  {
   "cell_type": "code",
   "execution_count": 151,
   "metadata": {},
   "outputs": [
    {
     "name": "stdout",
     "output_type": "stream",
     "text": [
      " 242349 traffic stops, 3108 searches,  1179 hits for contraband,\n",
      "Search rate: 0.013 ,\n",
      "Search Rate 99% confidence interval: (0.01225, 0.01343)\n",
      "Hit rate: 0.379 ,\n",
      "Hit Rate 99% confidence interval: (0.3572, 0.402)\n"
     ]
    }
   ],
   "source": [
    "search_stats(df[df['driver_race'] == 'White'])"
   ]
  },
  {
   "cell_type": "code",
   "execution_count": 152,
   "metadata": {},
   "outputs": [
    {
     "name": "stdout",
     "output_type": "stream",
     "text": [
      " 76320 traffic stops, 2224 searches,  638 hits for contraband,\n",
      "Search rate: 0.029 ,\n",
      "Search Rate 99% confidence interval: (0.02761, 0.03075)\n",
      "Hit rate: 0.287 ,\n",
      "Hit Rate 99% confidence interval: (0.26283, 0.31218)\n"
     ]
    }
   ],
   "source": [
    "search_stats(df[df.driver_race != 'White'])"
   ]
  },
  {
   "cell_type": "markdown",
   "metadata": {},
   "source": [
    "Doing the same for gender: we see that somen are searched at a much lower rate than men in this data set, but the hit rates are approximately the same. This may indicate a *lack* of bias when it comes to dealing with women."
   ]
  },
  {
   "cell_type": "code",
   "execution_count": 153,
   "metadata": {},
   "outputs": [
    {
     "name": "stdout",
     "output_type": "stream",
     "text": [
      " 211885 traffic stops, 4506 searches,  1542 hits for contraband,\n",
      "Search rate: 0.021 ,\n",
      "Search Rate 99% confidence interval: (0.02047, 0.02209)\n",
      "Hit rate: 0.342 ,\n",
      "Hit Rate 99% confidence interval: (0.32425, 0.36064)\n"
     ]
    }
   ],
   "source": [
    "search_stats(df[df.driver_gender == 'M'])"
   ]
  },
  {
   "cell_type": "code",
   "execution_count": 154,
   "metadata": {},
   "outputs": [
    {
     "name": "stdout",
     "output_type": "stream",
     "text": [
      " 106784 traffic stops, 826 searches,  275 hits for contraband,\n",
      "Search rate: 0.008 ,\n",
      "Search Rate 99% confidence interval: (0.00707, 0.00846)\n",
      "Hit rate: 0.333 ,\n",
      "Hit Rate 99% confidence interval: (0.29217, 0.37635)\n"
     ]
    }
   ],
   "source": [
    "search_stats(df[df.driver_gender == 'F'])"
   ]
  },
  {
   "cell_type": "markdown",
   "metadata": {},
   "source": [
    "Now lets look at those who were stopped for common violations: speeding, moving violations, stop sign/light violations, cellphone violations.\n",
    "\n",
    "Running our basic search stats tool shows that in the case of \"common violations\", non-whites are searched at approximately 3 times the rate, but the hit rate is still lower than that of non-whites."
   ]
  },
  {
   "cell_type": "code",
   "execution_count": 193,
   "metadata": {},
   "outputs": [
    {
     "data": {
      "text/plain": [
       "(156160, 19)"
      ]
     },
     "execution_count": 193,
     "metadata": {},
     "output_type": "execute_result"
    }
   ],
   "source": [
    "bad_driving = df[(df['violation'] == 'Speeding') | (df['violation'] == 'Moving violation')\n",
    "                | (df['violation'] == 'Stop sign/light') | (df['violation'] == 'Cell phone')]\n",
    "bad_driving.shape"
   ]
  },
  {
   "cell_type": "code",
   "execution_count": 197,
   "metadata": {},
   "outputs": [
    {
     "name": "stdout",
     "output_type": "stream",
     "text": [
      " 119286 traffic stops, 1097 searches,  368 hits for contraband,\n",
      "Search rate: 0.009 ,\n",
      "Search Rate 99% confidence interval: (0.00851, 0.00994)\n",
      "Hit rate: 0.335 ,\n",
      "Hit Rate 99% confidence interval: (0.29983, 0.37307)\n"
     ]
    }
   ],
   "source": [
    "search_stats(bad_driving[bad_driving['driver_race'] == 'White'])"
   ]
  },
  {
   "cell_type": "code",
   "execution_count": 198,
   "metadata": {},
   "outputs": [
    {
     "name": "stdout",
     "output_type": "stream",
     "text": [
      " 36874 traffic stops, 781 searches,  199 hits for contraband,\n",
      "Search rate: 0.021 ,\n",
      "Search Rate 99% confidence interval: (0.01933, 0.0232)\n",
      "Hit rate: 0.255 ,\n",
      "Hit Rate 99% confidence interval: (0.21682, 0.29691)\n"
     ]
    }
   ],
   "source": [
    "search_stats(bad_driving[bad_driving['driver_race'] != 'White'])"
   ]
  },
  {
   "cell_type": "code",
   "execution_count": 203,
   "metadata": {},
   "outputs": [],
   "source": [
    "#subset dataframe with stops that did not result in a search\n",
    "no_search = bad_driving[bad_driving['search_conducted'] == False]"
   ]
  },
  {
   "cell_type": "code",
   "execution_count": 200,
   "metadata": {},
   "outputs": [],
   "source": [
    "#computes some statistics on ticket rates\n",
    "def ticket_stats(df, alpha = 0.01):\n",
    "    #take the number of stops in the data\n",
    "    n_stops = len(df.search_conducted)\n",
    "    #compute the number of tickets given in data\n",
    "    n_tickets = len(df[df['stop_outcome'] == 'Ticket'])\n",
    "    #gives the proportion of tickets given\n",
    "    ticket_rate = n_tickets / n_stops\n",
    "    \n",
    "    #wilson confidence interval for the ticket proportion\n",
    "    ci_ticket = proportion_confint(n_tickets, n_stops, alpha=0.01, method='wilson')\n",
    "    \n",
    "    print(' %s traffic stops,' % n_stops, '%s tickets given, ' % n_tickets)\n",
    "    \n",
    "    print('Ticket Rate: %s ,' % round(ticket_rate, 3))\n",
    "    print('Ticket Rate 99% confidence interval:', (round(ci_ticket[0], 5), round(ci_ticket[1], 5)))\n",
    "    del(n_stops, n_tickets, ticket_rate, ci_ticket)"
   ]
  },
  {
   "cell_type": "markdown",
   "metadata": {},
   "source": [
    "Removing those data points which resulted in a search from these common violations only resulted in about 1000 data points being removed, out of nearly nearly 11000. The probability of a search is fairly low given a stop for a \"common\" violation.\n",
    "\n",
    "\n",
    "\n",
    "So the ticket rates and corresponding confidence intervals are nearly identical. The ticket rate is about 69% for common violations."
   ]
  },
  {
   "cell_type": "code",
   "execution_count": 204,
   "metadata": {},
   "outputs": [
    {
     "name": "stdout",
     "output_type": "stream",
     "text": [
      " 156160 traffic stops, 108053 tickets given, \n",
      "Ticket Rate: 0.692 ,\n",
      "Ticket Rate 99% confidence interval: (0.68892, 0.69494)\n"
     ]
    }
   ],
   "source": [
    "ticket_stats(bad_driving)"
   ]
  },
  {
   "cell_type": "code",
   "execution_count": 205,
   "metadata": {},
   "outputs": [
    {
     "name": "stdout",
     "output_type": "stream",
     "text": [
      " 154282 traffic stops, 107088 tickets given, \n",
      "Ticket Rate: 0.694 ,\n",
      "Ticket Rate 99% confidence interval: (0.69108, 0.69712)\n"
     ]
    }
   ],
   "source": [
    "ticket_stats(no_search)"
   ]
  },
  {
   "cell_type": "markdown",
   "metadata": {},
   "source": [
    "Let's take a look at the ticket rate as a function of gender. \n",
    "\n",
    "Looks like men are ticketed slightly more than women with a ticket rate of almost 70% (compared to a ticket rate of 69%). The 99% confidence intervals are mildly disjoint."
   ]
  },
  {
   "cell_type": "code",
   "execution_count": 206,
   "metadata": {},
   "outputs": [
    {
     "name": "stdout",
     "output_type": "stream",
     "text": [
      " 101391 traffic stops, 70858 tickets given, \n",
      "Ticket Rate: 0.699 ,\n",
      "Ticket Rate 99% confidence interval: (0.69513, 0.70256)\n"
     ]
    }
   ],
   "source": [
    "ticket_stats(no_search[no_search['driver_gender'] == 'M'])"
   ]
  },
  {
   "cell_type": "code",
   "execution_count": 207,
   "metadata": {},
   "outputs": [
    {
     "name": "stdout",
     "output_type": "stream",
     "text": [
      " 52891 traffic stops, 36230 tickets given, \n",
      "Ticket Rate: 0.685 ,\n",
      "Ticket Rate 99% confidence interval: (0.67977, 0.69017)\n"
     ]
    }
   ],
   "source": [
    "ticket_stats(no_search[no_search['driver_gender'] != 'M'])"
   ]
  },
  {
   "cell_type": "markdown",
   "metadata": {},
   "source": [
    "We can take a look at the data as a function of race now. In order to account for the bias of more frequent searches being conducted on non-whites in this data set, we look at only those data points in which a search *was not* conducted. \n",
    "\n",
    "With white drivers, the ticket rate is about 67.6% and with non-white drivers, the ticket rate is about 75.3%. The corresponding 99% (wilson) confidence intervals are widely disjoint."
   ]
  },
  {
   "cell_type": "code",
   "execution_count": 210,
   "metadata": {},
   "outputs": [
    {
     "name": "stdout",
     "output_type": "stream",
     "text": [
      " 118189 traffic stops, 79918 tickets given, \n",
      "Ticket Rate: 0.676 ,\n",
      "Ticket Rate 99% confidence interval: (0.67267, 0.67968)\n"
     ]
    }
   ],
   "source": [
    "ticket_stats(no_search[no_search['driver_race']  == 'White'])"
   ]
  },
  {
   "cell_type": "code",
   "execution_count": 211,
   "metadata": {},
   "outputs": [
    {
     "name": "stdout",
     "output_type": "stream",
     "text": [
      " 36093 traffic stops, 27170 tickets given, \n",
      "Ticket Rate: 0.753 ,\n",
      "Ticket Rate 99% confidence interval: (0.74688, 0.75858)\n"
     ]
    }
   ],
   "source": [
    "ticket_stats(no_search[no_search['driver_race']  != 'White'])"
   ]
  }
 ],
 "metadata": {
  "kernelspec": {
   "display_name": "Python 3",
   "language": "python",
   "name": "python3"
  },
  "language_info": {
   "codemirror_mode": {
    "name": "ipython",
    "version": 3
   },
   "file_extension": ".py",
   "mimetype": "text/x-python",
   "name": "python",
   "nbconvert_exporter": "python",
   "pygments_lexer": "ipython3",
   "version": "3.6.4"
  }
 },
 "nbformat": 4,
 "nbformat_minor": 2
}
